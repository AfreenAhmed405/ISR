{
 "cells": [
  {
   "cell_type": "code",
   "execution_count": 68,
   "metadata": {},
   "outputs": [],
   "source": [
    "# Importing necessary libraries\n",
    "import pandas as pd\n",
    "import numpy as np\n",
    "import json\n",
    "import fitz     \n",
    "import httpx"
   ]
  },
  {
   "cell_type": "code",
   "execution_count": 69,
   "metadata": {},
   "outputs": [],
   "source": [
    "path = './resources/sample_report-3.pdf'"
   ]
  },
  {
   "cell_type": "code",
   "execution_count": 70,
   "metadata": {},
   "outputs": [],
   "source": [
    "# Function to extract the text from file\n",
    "def extract_text_from_pdf(pdf_path):\n",
    "    doc = fitz.open(pdf_path)\n",
    "    text = \"\\n\".join([page.get_text(\"text\") for page in doc])\n",
    "    return text\n",
    "\n",
    "text = extract_text_from_pdf(path)"
   ]
  },
  {
   "cell_type": "code",
   "execution_count": 71,
   "metadata": {},
   "outputs": [
    {
     "data": {
      "text/plain": [
       "'Cholesterol\\nmg/dL\\nDesirable : <200\\nBorderline High : 200-239\\nHigh : >240\\nCholesterol oxidase – Peroxidase method\\n189.0\\nTriglyceride\\nH\\nmg/dL\\nNormal : <150\\nBorderline : 150-199\\nHigh : 200-499\\nVery High : >500 \\nEzymatic (Lipase/GK/GPO/POD)\\n168.0\\nHDL Cholesterol\\nmg/dL\\nLow: <40.0 \\nHigh: >60.0  \\nPTA/MgCl2\\n60.0\\nDirect LDL\\nH\\nmg/dL\\nOptimal: <100\\nNear to above Optimal: \\n100–129\\nBorderline High: 130-159\\nHigh: 160–189\\nVery High: =190\\nDirect measured\\n100.39\\nVLDL\\nmg/dL\\n15 - 35\\nCalculated\\n33.60\\nCHOL/HDL Ratio\\nUp to 5.0\\nCalculated\\n3.1\\nLDL/HDL Ratio\\nUp to 3.5\\nCalculated\\n1.7\\nLipid Profile\\nTest\\nResult\\nUnit\\nBiological Ref. Interval\\nDr.  Sanjeev Shah\\nDr.Yash Shah\\nDr. Purvish Darji\\nMD Path\\nMD Path\\nMD(Path)\\nThis is an Electronically Authenticated Report.\\n# Referred Test\\nMale / 41 Y\\n01-Feb-1982\\nSex/Age\\nStatus :\\nFinal\\n20-Feb-2023 11:29\\nApproved on\\n:\\n:\\nRef. Id\\n:\\nPrinted On\\n28-Feb-2023 10:26\\n:\\nRef. By\\n:\\n1. NRL SAWPL Gujarat Ahmedabad Paldi\\n:\\n:\\nLocation\\nMC-2202\\nScan QR code to check \\nreport authenticity\\nLABORATORY TEST REPORT\\nPassport No :\\nSample Information\\nClient/Location Information\\nPatient Information\\n: Lyubochka Svetka\\nName\\nClient Name\\nSterling Accuris Buddy\\n:\\nLab Id \\n: 02232160XXXX\\nRegistration on  : 20-Feb-2023 09:10 \\nCollected at \\n: non SAWPL \\nCollected on \\n: 20-Feb-2023 08:53 \\nSample Type    : Serum\\nProcess At\\nPage 3 of 19\\n0\\n3\\n600\\n6\\na d\\nSo\\npu a\\nea s\\na e\\n'"
      ]
     },
     "execution_count": 71,
     "metadata": {},
     "output_type": "execute_result"
    }
   ],
   "source": [
    "text"
   ]
  },
  {
   "cell_type": "code",
   "execution_count": 72,
   "metadata": {},
   "outputs": [],
   "source": [
    "import re\n",
    "\n",
    "def extract_json_from_text(text):\n",
    "    try:\n",
    "        # Extract the first valid JSON array\n",
    "        match = re.search(r\"\\[\\s*{.*?}\\s*]\", text, re.DOTALL)\n",
    "        if match:\n",
    "            return json.loads(match.group(0))\n",
    "        else:\n",
    "            raise ValueError(\"No JSON array found\")\n",
    "    except Exception as e:\n",
    "        print(\"❌ JSON parsing failed:\", e)\n",
    "        return []"
   ]
  },
  {
   "cell_type": "code",
   "execution_count": null,
   "metadata": {},
   "outputs": [],
   "source": [
    "import google.generativeai as genai\n",
    "import json\n",
    "\n",
    "load_dotenv(dotenv_path=\"keys.env\")\n",
    "GOOGLE_API_KEY = os.getenv(\"GOOGLE_API_KEY\")\n",
    "genai.configure(api_key=GOOGLE_API_KEY)\n",
    "\n",
    "def extract_with_gemini(text):\n",
    "    clean_text = \"\\n\".join([line for line in text.splitlines() if line.strip()])\n",
    "\n",
    "    prompt = f\"\"\"\n",
    "      You are a medical report parser.\n",
    "\n",
    "      The following text is a blood test report extracted from a PDF. The format is broken across multiple lines — each test's name, value, and unit may appear on separate lines.\n",
    "\n",
    "      ---\n",
    "\n",
    "      Your job:\n",
    "      1. Extract all **test results** that include:\n",
    "        - `\"name\"`: the test name (e.g., \"Hemoglobin\")\n",
    "        - `\"value\"`: the actual test value with units, if available (e.g., \"11.9 g/dL\")\n",
    "\n",
    "      2. Ignore any metadata (e.g., \"Patient Name\", \"Age\", \"Note\", etc.)\n",
    "\n",
    "      3. Return the output as a valid **JSON list**, like this:\n",
    "\n",
    "      [\n",
    "        {{\n",
    "          \"name\": \"Hemoglobin\",\n",
    "          \"value\": \"11.9 g/dL\"\n",
    "        }},\n",
    "        {{\n",
    "          \"name\": \"Platelet Count\",\n",
    "          \"value\": \"1.5 lakhs/cumm\"\n",
    "        }}\n",
    "      ]\n",
    "\n",
    "      ---\n",
    "\n",
    "      Text:\n",
    "      {clean_text}\n",
    "    \"\"\"\n",
    "\n",
    "    model = genai.GenerativeModel(\"models/gemini-1.5-flash\")\n",
    "\n",
    "    try:\n",
    "      response = model.generate_content(prompt)\n",
    "      parsed = extract_json_from_text(response.text)\n",
    "      return parsed\n",
    "    except Exception as e:\n",
    "        print(\"JSON parsing failed:\", e)\n",
    "        return []\n"
   ]
  },
  {
   "cell_type": "code",
   "execution_count": 74,
   "metadata": {},
   "outputs": [],
   "source": [
    "tokens = extract_with_gemini(text)"
   ]
  },
  {
   "cell_type": "code",
   "execution_count": 75,
   "metadata": {},
   "outputs": [
    {
     "data": {
      "text/plain": [
       "[{'name': 'Cholesterol', 'value': '189.0 mg/dL'},\n",
       " {'name': 'Triglyceride', 'value': '168.0 mg/dL'},\n",
       " {'name': 'HDL Cholesterol', 'value': '60.0 mg/dL'},\n",
       " {'name': 'Direct LDL', 'value': '100.39 mg/dL'},\n",
       " {'name': 'VLDL', 'value': '33.60 mg/dL'},\n",
       " {'name': 'CHOL/HDL Ratio', 'value': '3.1'},\n",
       " {'name': 'LDL/HDL Ratio', 'value': '1.7'}]"
      ]
     },
     "execution_count": 75,
     "metadata": {},
     "output_type": "execute_result"
    }
   ],
   "source": [
    "tokens"
   ]
  }
 ],
 "metadata": {
  "kernelspec": {
   "display_name": "base",
   "language": "python",
   "name": "python3"
  },
  "language_info": {
   "codemirror_mode": {
    "name": "ipython",
    "version": 3
   },
   "file_extension": ".py",
   "mimetype": "text/x-python",
   "name": "python",
   "nbconvert_exporter": "python",
   "pygments_lexer": "ipython3",
   "version": "3.12.3"
  }
 },
 "nbformat": 4,
 "nbformat_minor": 2
}
